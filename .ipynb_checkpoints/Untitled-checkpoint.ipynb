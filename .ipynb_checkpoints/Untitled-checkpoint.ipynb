{
 "cells": [
  {
   "cell_type": "code",
   "execution_count": 1,
   "metadata": {},
   "outputs": [],
   "source": [
    "#!/usr/local/bin/python\n",
    "    \n",
    "import re\n",
    "import optparse\n",
    "\n",
    "goi = {'ENSGALG00000030902': 'SNAI2'}\n",
    "\n",
    "# create output file to write to\n",
    "outfile = open(\"${prefix}.gtf\", 'a')\n",
    "\n",
    "gtf =  open(\"${gtf}\", 'rt')\n",
    "    \n",
    "for line in gtf:\n",
    "    if 'gene_id' in line:\n",
    "#       Check if any gene_ids in line\n",
    "        if any(gene_id in line for gene_id in goi.keys()):\n",
    "#           Get matching gene name from dict\n",
    "            gene_name = [gene_name for gene_id, gene_name in goi.items() if gene_id in line]\n",
    "#           If gene_name is already in line - remove and replace\n",
    "            if 'gene_name' in line:\n",
    "                line = re.sub('gene_name.*?;', '', line, flags=re.DOTALL)\n",
    "            line = line.rstrip() + ' gene_name \"' + gene_name[0] + '\";\\n'\n",
    "    outfile.write(line)"
   ]
  },
  {
   "cell_type": "code",
   "execution_count": 68,
   "metadata": {},
   "outputs": [],
   "source": []
  },
  {
   "cell_type": "code",
   "execution_count": 72,
   "metadata": {},
   "outputs": [],
   "source": []
  },
  {
   "cell_type": "code",
   "execution_count": null,
   "metadata": {},
   "outputs": [],
   "source": []
  },
  {
   "cell_type": "code",
   "execution_count": 69,
   "metadata": {},
   "outputs": [],
   "source": []
  },
  {
   "cell_type": "code",
   "execution_count": null,
   "metadata": {},
   "outputs": [],
   "source": []
  },
  {
   "cell_type": "code",
   "execution_count": null,
   "metadata": {},
   "outputs": [],
   "source": []
  },
  {
   "cell_type": "code",
   "execution_count": null,
   "metadata": {},
   "outputs": [],
   "source": []
  },
  {
   "cell_type": "code",
   "execution_count": null,
   "metadata": {},
   "outputs": [],
   "source": []
  },
  {
   "cell_type": "code",
   "execution_count": null,
   "metadata": {},
   "outputs": [],
   "source": []
  },
  {
   "cell_type": "code",
   "execution_count": 71,
   "metadata": {},
   "outputs": [
    {
     "name": "stdout",
     "output_type": "stream",
     "text": [
      "2\tensembl\ttranscript\t108430041\t108432260\t.\t-\t.\tgene_id \"ENSGALG00000030902\"; gene_version \"2\"; transcript_id \"ENSGALT00000056075\"; transcript_version \"2\"; gene_source \"ensembl\"; gene_biotype \"protein_coding\"; transcript_source \"ensembl\"; transcript_biotype \"protein_coding\"; gene_name \"SNAI2\";\n",
      "\n",
      "2\tensembl\texon\t108432182\t108432260\t.\t-\t.\tgene_id \"ENSGALG00000030902\"; gene_version \"2\"; transcript_id \"ENSGALT00000056075\"; transcript_version \"2\"; exon_number \"1\"; gene_source \"ensembl\"; gene_biotype \"protein_coding\"; transcript_source \"ensembl\"; transcript_biotype \"protein_coding\"; exon_id \"ENSGALE00000344060\"; exon_version \"1\"; gene_name \"SNAI2\";\n",
      "\n",
      "2\tensembl\tCDS\t108432182\t108432260\t.\t-\t0\tgene_id \"ENSGALG00000030902\"; gene_version \"2\"; transcript_id \"ENSGALT00000056075\"; transcript_version \"2\"; exon_number \"1\"; gene_source \"ensembl\"; gene_biotype \"protein_coding\"; transcript_source \"ensembl\"; transcript_biotype \"protein_coding\"; protein_id \"ENSGALP00000056928\"; protein_version \"2\"; gene_name \"SNAI2\";\n",
      "\n",
      "2\tensembl\tstart_codon\t108432258\t108432260\t.\t-\t0\tgene_id \"ENSGALG00000030902\"; gene_version \"2\"; transcript_id \"ENSGALT00000056075\"; transcript_version \"2\"; exon_number \"1\"; gene_source \"ensembl\"; gene_biotype \"protein_coding\"; transcript_source \"ensembl\"; transcript_biotype \"protein_coding\"; gene_name \"SNAI2\";\n",
      "\n",
      "2\tensembl\texon\t108431596\t108431622\t.\t-\t.\tgene_id \"ENSGALG00000030902\"; gene_version \"2\"; transcript_id \"ENSGALT00000056075\"; transcript_version \"2\"; exon_number \"2\"; gene_source \"ensembl\"; gene_biotype \"protein_coding\"; transcript_source \"ensembl\"; transcript_biotype \"protein_coding\"; exon_id \"ENSGALE00000467779\"; exon_version \"1\"; gene_name \"SNAI2\";\n",
      "\n",
      "2\tensembl\tCDS\t108431596\t108431622\t.\t-\t2\tgene_id \"ENSGALG00000030902\"; gene_version \"2\"; transcript_id \"ENSGALT00000056075\"; transcript_version \"2\"; exon_number \"2\"; gene_source \"ensembl\"; gene_biotype \"protein_coding\"; transcript_source \"ensembl\"; transcript_biotype \"protein_coding\"; protein_id \"ENSGALP00000056928\"; protein_version \"2\"; gene_name \"SNAI2\";\n",
      "\n",
      "2\tensembl\texon\t108431078\t108431566\t.\t-\t.\tgene_id \"ENSGALG00000030902\"; gene_version \"2\"; transcript_id \"ENSGALT00000056075\"; transcript_version \"2\"; exon_number \"3\"; gene_source \"ensembl\"; gene_biotype \"protein_coding\"; transcript_source \"ensembl\"; transcript_biotype \"protein_coding\"; exon_id \"ENSGALE00000356787\"; exon_version \"2\"; gene_name \"SNAI2\";\n",
      "\n",
      "2\tensembl\tCDS\t108431078\t108431566\t.\t-\t2\tgene_id \"ENSGALG00000030902\"; gene_version \"2\"; transcript_id \"ENSGALT00000056075\"; transcript_version \"2\"; exon_number \"3\"; gene_source \"ensembl\"; gene_biotype \"protein_coding\"; transcript_source \"ensembl\"; transcript_biotype \"protein_coding\"; protein_id \"ENSGALP00000056928\"; protein_version \"2\"; gene_name \"SNAI2\";\n",
      "\n",
      "2\tensembl\texon\t108430041\t108430222\t.\t-\t.\tgene_id \"ENSGALG00000030902\"; gene_version \"2\"; transcript_id \"ENSGALT00000056075\"; transcript_version \"2\"; exon_number \"4\"; gene_source \"ensembl\"; gene_biotype \"protein_coding\"; transcript_source \"ensembl\"; transcript_biotype \"protein_coding\"; exon_id \"ENSGALE00000459192\"; exon_version \"1\"; gene_name \"SNAI2\";\n",
      "\n",
      "2\tensembl\tCDS\t108430044\t108430222\t.\t-\t2\tgene_id \"ENSGALG00000030902\"; gene_version \"2\"; transcript_id \"ENSGALT00000056075\"; transcript_version \"2\"; exon_number \"4\"; gene_source \"ensembl\"; gene_biotype \"protein_coding\"; transcript_source \"ensembl\"; transcript_biotype \"protein_coding\"; protein_id \"ENSGALP00000056928\"; protein_version \"2\"; gene_name \"SNAI2\";\n",
      "\n",
      "2\tensembl\tstop_codon\t108430041\t108430043\t.\t-\t0\tgene_id \"ENSGALG00000030902\"; gene_version \"2\"; transcript_id \"ENSGALT00000056075\"; transcript_version \"2\"; exon_number \"4\"; gene_source \"ensembl\"; gene_biotype \"protein_coding\"; transcript_source \"ensembl\"; transcript_biotype \"protein_coding\"; gene_name \"SNAI2\";\n",
      "\n"
     ]
    }
   ],
   "source": [
    "import re\n",
    "\n",
    "# create output file to write to\n",
    "outfile = open(\"${prefix}.gtf\", 'a')\n",
    "\n",
    "gtf =  open(\"${gtf}\", 'rt')\n",
    "    \n",
    "for line in gtf:\n",
    "    if 'gene_id' in line:\n",
    "#       Check if any gene_ids in line\n",
    "        if any(gene_id in line for gene_id in goi.keys()):\n",
    "#           Get matching gene name from dict\n",
    "            gene_name = [gene_name for gene_id, gene_name in goi.items() if gene_id in line]\n",
    "#           If gene_name is already in line - remove and replace\n",
    "            if 'gene_name' in line:\n",
    "                line = re.sub('gene_name.*?;', '', line, flags=re.DOTALL)\n",
    "            line = line.rstrip() + ' gene_name \"' + gene_name[0] + '\";\\n'\n",
    "    outfile.write(line)\n",
    "        "
   ]
  },
  {
   "cell_type": "code",
   "execution_count": null,
   "metadata": {},
   "outputs": [],
   "source": []
  },
  {
   "cell_type": "code",
   "execution_count": null,
   "metadata": {},
   "outputs": [],
   "source": []
  },
  {
   "cell_type": "code",
   "execution_count": null,
   "metadata": {},
   "outputs": [],
   "source": []
  },
  {
   "cell_type": "code",
   "execution_count": null,
   "metadata": {},
   "outputs": [],
   "source": []
  },
  {
   "cell_type": "code",
   "execution_count": null,
   "metadata": {},
   "outputs": [],
   "source": [
    "\n",
    "# make array of chromosomes to tag\n",
    "lab = [${options.args}]\n",
    "\n",
    "# create output file to write to\n",
    "outfile = open(\"${prefix}.gtf\", 'a')\n",
    "\n",
    "with open(\"${gtf}\", 'rt') as gtf:\n",
    "    for line in gtf:\n",
    "        # only search lines with gene_id in order to skip header lines\n",
    "        if 'gene_id' in line:\n",
    "\n",
    "            # change names for genes from chroms of interest (lab)\n",
    "            chr = line.split()[0]\n",
    "            if chr in lab:\n",
    "                match = [s for s in lab if chr in s]\n",
    "                line = re.sub('gene_id \"', 'gene_id \"'+''.join(match)+'-', line)\n",
    "                if 'gene_name' in line:\n",
    "                    line = re.sub('gene_name \"', 'gene_name \"'+''.join(match)+'-', line)\n",
    "\n",
    "        outfile.write(line)"
   ]
  }
 ],
 "metadata": {
  "kernelspec": {
   "display_name": "Python 3",
   "language": "python",
   "name": "python3"
  },
  "language_info": {
   "codemirror_mode": {
    "name": "ipython",
    "version": 3
   },
   "file_extension": ".py",
   "mimetype": "text/x-python",
   "name": "python",
   "nbconvert_exporter": "python",
   "pygments_lexer": "ipython3",
   "version": "3.7.4"
  }
 },
 "nbformat": 4,
 "nbformat_minor": 2
}
